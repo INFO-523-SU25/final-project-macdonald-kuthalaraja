{
 "cells": [
  {
   "cell_type": "markdown",
   "id": "8b014137",
   "metadata": {},
   "source": [
    "---\n",
    "title: \"Navigating the S&P 500 with Machine Learning: What Can We Discover?\"\n",
    "subtitle: \"INFO 523 - Final Project\"\n",
    "author: \n",
    "  - name: \"Macdonald-Kuthalaraja - Trevor Macdonald, Nandakumar Kuthalaraja \"\n",
    "    affiliations:\n",
    "      - name: \"College of Information Science, University of Arizona\"\n",
    "description: \"Project description\"\n",
    "format:\n",
    "   html:\n",
    "    code-tools: true\n",
    "    code-overflow: wrap\n",
    "    embed-resources: true\n",
    "editor: visual\n",
    "execute:\n",
    "  warning: false\n",
    "  echo: false\n",
    "jupyter: python3\n",
    "---\n",
    "\n",
    "## Abstract\n",
    "\n",
    "Add project abstract here."
   ]
  }
 ],
 "metadata": {
  "kernelspec": {
   "display_name": "Python 3 (ipykernel)",
   "language": "python",
   "name": "python3",
   "path": "/opt/homebrew/Caskroom/miniconda/base/envs/py38/share/jupyter/kernels/python3"
  },
  "language_info": {
   "codemirror_mode": {
    "name": "ipython",
    "version": 3
   },
   "file_extension": ".py",
   "mimetype": "text/x-python",
   "name": "python",
   "nbconvert_exporter": "python",
   "pygments_lexer": "ipython3",
   "version": "3.13.5"
  }
 },
 "nbformat": 4,
 "nbformat_minor": 5
}
